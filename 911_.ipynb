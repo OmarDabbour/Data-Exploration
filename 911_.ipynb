{
  "nbformat": 4,
  "nbformat_minor": 0,
  "metadata": {
    "colab": {
      "name": "911 .ipynb",
      "provenance": [],
      "collapsed_sections": []
    },
    "kernelspec": {
      "name": "python3",
      "display_name": "Python 3"
    },
    "language_info": {
      "name": "python"
    }
  },
  "cells": [
    {
      "cell_type": "code",
      "metadata": {
        "id": "7VyLsq6Kk40w"
      },
      "source": [
        "import pandas as pd\n",
        "import seaborn as sns"
      ],
      "execution_count": 1,
      "outputs": []
    },
    {
      "cell_type": "code",
      "metadata": {
        "id": "QBYX3yFrk-cq",
        "colab": {
          "base_uri": "https://localhost:8080/",
          "height": 297
        },
        "outputId": "2597201c-00d2-491c-e619-fcd71be3667a"
      },
      "source": [
        "data = pd.read_csv('911.csv')\n",
        "data.describe()"
      ],
      "execution_count": 2,
      "outputs": [
        {
          "output_type": "execute_result",
          "data": {
            "text/html": [
              "<div>\n",
              "<style scoped>\n",
              "    .dataframe tbody tr th:only-of-type {\n",
              "        vertical-align: middle;\n",
              "    }\n",
              "\n",
              "    .dataframe tbody tr th {\n",
              "        vertical-align: top;\n",
              "    }\n",
              "\n",
              "    .dataframe thead th {\n",
              "        text-align: right;\n",
              "    }\n",
              "</style>\n",
              "<table border=\"1\" class=\"dataframe\">\n",
              "  <thead>\n",
              "    <tr style=\"text-align: right;\">\n",
              "      <th></th>\n",
              "      <th>lat</th>\n",
              "      <th>lng</th>\n",
              "      <th>zip</th>\n",
              "      <th>e</th>\n",
              "      <th>hour</th>\n",
              "      <th>month</th>\n",
              "      <th>Year</th>\n",
              "    </tr>\n",
              "  </thead>\n",
              "  <tbody>\n",
              "    <tr>\n",
              "      <th>count</th>\n",
              "      <td>19878.000000</td>\n",
              "      <td>19878.000000</td>\n",
              "      <td>17433.000000</td>\n",
              "      <td>19877.0</td>\n",
              "      <td>19877.000000</td>\n",
              "      <td>19877.000000</td>\n",
              "      <td>19877.000000</td>\n",
              "    </tr>\n",
              "    <tr>\n",
              "      <th>mean</th>\n",
              "      <td>40.162439</td>\n",
              "      <td>-75.318570</td>\n",
              "      <td>19241.474904</td>\n",
              "      <td>1.0</td>\n",
              "      <td>13.089098</td>\n",
              "      <td>5.380742</td>\n",
              "      <td>2015.601751</td>\n",
              "    </tr>\n",
              "    <tr>\n",
              "      <th>std</th>\n",
              "      <td>0.084749</td>\n",
              "      <td>0.154942</td>\n",
              "      <td>276.078322</td>\n",
              "      <td>0.0</td>\n",
              "      <td>5.693712</td>\n",
              "      <td>5.385046</td>\n",
              "      <td>0.489550</td>\n",
              "    </tr>\n",
              "    <tr>\n",
              "      <th>min</th>\n",
              "      <td>39.974951</td>\n",
              "      <td>-77.686813</td>\n",
              "      <td>17752.000000</td>\n",
              "      <td>1.0</td>\n",
              "      <td>0.000000</td>\n",
              "      <td>1.000000</td>\n",
              "      <td>2015.000000</td>\n",
              "    </tr>\n",
              "    <tr>\n",
              "      <th>25%</th>\n",
              "      <td>40.103377</td>\n",
              "      <td>-75.396135</td>\n",
              "      <td>19038.000000</td>\n",
              "      <td>1.0</td>\n",
              "      <td>9.000000</td>\n",
              "      <td>1.000000</td>\n",
              "      <td>2015.000000</td>\n",
              "    </tr>\n",
              "    <tr>\n",
              "      <th>50%</th>\n",
              "      <td>40.149665</td>\n",
              "      <td>-75.306233</td>\n",
              "      <td>19401.000000</td>\n",
              "      <td>1.0</td>\n",
              "      <td>13.000000</td>\n",
              "      <td>1.000000</td>\n",
              "      <td>2016.000000</td>\n",
              "    </tr>\n",
              "    <tr>\n",
              "      <th>75%</th>\n",
              "      <td>40.230934</td>\n",
              "      <td>-75.212916</td>\n",
              "      <td>19446.000000</td>\n",
              "      <td>1.0</td>\n",
              "      <td>18.000000</td>\n",
              "      <td>12.000000</td>\n",
              "      <td>2016.000000</td>\n",
              "    </tr>\n",
              "    <tr>\n",
              "      <th>max</th>\n",
              "      <td>41.167156</td>\n",
              "      <td>-75.000755</td>\n",
              "      <td>19525.000000</td>\n",
              "      <td>1.0</td>\n",
              "      <td>23.000000</td>\n",
              "      <td>12.000000</td>\n",
              "      <td>2016.000000</td>\n",
              "    </tr>\n",
              "  </tbody>\n",
              "</table>\n",
              "</div>"
            ],
            "text/plain": [
              "                lat           lng  ...         month          Year\n",
              "count  19878.000000  19878.000000  ...  19877.000000  19877.000000\n",
              "mean      40.162439    -75.318570  ...      5.380742   2015.601751\n",
              "std        0.084749      0.154942  ...      5.385046      0.489550\n",
              "min       39.974951    -77.686813  ...      1.000000   2015.000000\n",
              "25%       40.103377    -75.396135  ...      1.000000   2015.000000\n",
              "50%       40.149665    -75.306233  ...      1.000000   2016.000000\n",
              "75%       40.230934    -75.212916  ...     12.000000   2016.000000\n",
              "max       41.167156    -75.000755  ...     12.000000   2016.000000\n",
              "\n",
              "[8 rows x 7 columns]"
            ]
          },
          "metadata": {},
          "execution_count": 2
        }
      ]
    },
    {
      "cell_type": "code",
      "metadata": {
        "id": "xRgT1Sn0l1pB",
        "colab": {
          "base_uri": "https://localhost:8080/",
          "height": 306
        },
        "outputId": "6c4d6ea0-d571-483e-fd5e-93dfbf657185"
      },
      "source": [
        "data.head()"
      ],
      "execution_count": 3,
      "outputs": [
        {
          "output_type": "execute_result",
          "data": {
            "text/html": [
              "<div>\n",
              "<style scoped>\n",
              "    .dataframe tbody tr th:only-of-type {\n",
              "        vertical-align: middle;\n",
              "    }\n",
              "\n",
              "    .dataframe tbody tr th {\n",
              "        vertical-align: top;\n",
              "    }\n",
              "\n",
              "    .dataframe thead th {\n",
              "        text-align: right;\n",
              "    }\n",
              "</style>\n",
              "<table border=\"1\" class=\"dataframe\">\n",
              "  <thead>\n",
              "    <tr style=\"text-align: right;\">\n",
              "      <th></th>\n",
              "      <th>lat</th>\n",
              "      <th>lng</th>\n",
              "      <th>desc</th>\n",
              "      <th>zip</th>\n",
              "      <th>title</th>\n",
              "      <th>timeStamp</th>\n",
              "      <th>twp</th>\n",
              "      <th>addr</th>\n",
              "      <th>e</th>\n",
              "      <th>Reason</th>\n",
              "      <th>hour</th>\n",
              "      <th>month</th>\n",
              "      <th>day of week</th>\n",
              "      <th>Year</th>\n",
              "    </tr>\n",
              "  </thead>\n",
              "  <tbody>\n",
              "    <tr>\n",
              "      <th>0</th>\n",
              "      <td>40.297876</td>\n",
              "      <td>-75.581294</td>\n",
              "      <td>REINDEER CT &amp; DEAD END;  NEW HANOVER; Station ...</td>\n",
              "      <td>19525.0</td>\n",
              "      <td>EMS: BACK PAINS/INJURY</td>\n",
              "      <td>2015-12-10 17:10:52</td>\n",
              "      <td>NEW HANOVER</td>\n",
              "      <td>REINDEER CT &amp; DEAD END</td>\n",
              "      <td>1.0</td>\n",
              "      <td>EMS</td>\n",
              "      <td>17.0</td>\n",
              "      <td>12.0</td>\n",
              "      <td>Thu</td>\n",
              "      <td>2015.0</td>\n",
              "    </tr>\n",
              "    <tr>\n",
              "      <th>1</th>\n",
              "      <td>40.258061</td>\n",
              "      <td>-75.264680</td>\n",
              "      <td>BRIAR PATH &amp; WHITEMARSH LN;  HATFIELD TOWNSHIP...</td>\n",
              "      <td>19446.0</td>\n",
              "      <td>EMS: DIABETIC EMERGENCY</td>\n",
              "      <td>2015-12-10 17:29:21</td>\n",
              "      <td>HATFIELD TOWNSHIP</td>\n",
              "      <td>BRIAR PATH &amp; WHITEMARSH LN</td>\n",
              "      <td>1.0</td>\n",
              "      <td>EMS</td>\n",
              "      <td>17.0</td>\n",
              "      <td>12.0</td>\n",
              "      <td>Thu</td>\n",
              "      <td>2015.0</td>\n",
              "    </tr>\n",
              "    <tr>\n",
              "      <th>2</th>\n",
              "      <td>40.121182</td>\n",
              "      <td>-75.351975</td>\n",
              "      <td>HAWS AVE; NORRISTOWN; 2015-12-10 @ 14:39:21-St...</td>\n",
              "      <td>19401.0</td>\n",
              "      <td>Fire: GAS-ODOR/LEAK</td>\n",
              "      <td>2015-12-10 14:39:21</td>\n",
              "      <td>NORRISTOWN</td>\n",
              "      <td>HAWS AVE</td>\n",
              "      <td>1.0</td>\n",
              "      <td>Fire</td>\n",
              "      <td>14.0</td>\n",
              "      <td>12.0</td>\n",
              "      <td>Thu</td>\n",
              "      <td>2015.0</td>\n",
              "    </tr>\n",
              "    <tr>\n",
              "      <th>3</th>\n",
              "      <td>40.116153</td>\n",
              "      <td>-75.343513</td>\n",
              "      <td>AIRY ST &amp; SWEDE ST;  NORRISTOWN; Station 308A;...</td>\n",
              "      <td>19401.0</td>\n",
              "      <td>EMS: CARDIAC EMERGENCY</td>\n",
              "      <td>2015-12-10 16:47:36</td>\n",
              "      <td>NORRISTOWN</td>\n",
              "      <td>AIRY ST &amp; SWEDE ST</td>\n",
              "      <td>1.0</td>\n",
              "      <td>EMS</td>\n",
              "      <td>16.0</td>\n",
              "      <td>12.0</td>\n",
              "      <td>Thu</td>\n",
              "      <td>2015.0</td>\n",
              "    </tr>\n",
              "    <tr>\n",
              "      <th>4</th>\n",
              "      <td>40.251492</td>\n",
              "      <td>-75.603350</td>\n",
              "      <td>CHERRYWOOD CT &amp; DEAD END;  LOWER POTTSGROVE; S...</td>\n",
              "      <td>NaN</td>\n",
              "      <td>EMS: DIZZINESS</td>\n",
              "      <td>2015-12-10 16:56:52</td>\n",
              "      <td>LOWER POTTSGROVE</td>\n",
              "      <td>CHERRYWOOD CT &amp; DEAD END</td>\n",
              "      <td>1.0</td>\n",
              "      <td>EMS</td>\n",
              "      <td>16.0</td>\n",
              "      <td>12.0</td>\n",
              "      <td>Thu</td>\n",
              "      <td>2015.0</td>\n",
              "    </tr>\n",
              "  </tbody>\n",
              "</table>\n",
              "</div>"
            ],
            "text/plain": [
              "         lat        lng  ... day of week    Year\n",
              "0  40.297876 -75.581294  ...         Thu  2015.0\n",
              "1  40.258061 -75.264680  ...         Thu  2015.0\n",
              "2  40.121182 -75.351975  ...         Thu  2015.0\n",
              "3  40.116153 -75.343513  ...         Thu  2015.0\n",
              "4  40.251492 -75.603350  ...         Thu  2015.0\n",
              "\n",
              "[5 rows x 14 columns]"
            ]
          },
          "metadata": {},
          "execution_count": 3
        }
      ]
    },
    {
      "cell_type": "code",
      "metadata": {
        "id": "7WGiMCLhn5lV",
        "colab": {
          "base_uri": "https://localhost:8080/",
          "height": 606
        },
        "outputId": "84da2716-5a87-49c8-8eda-5cde8cb3e4e1"
      },
      "source": [
        "year_2015 = data[\"Year\"].isin([\"2015\"])\n",
        "data[year_2015]"
      ],
      "execution_count": 4,
      "outputs": [
        {
          "output_type": "execute_result",
          "data": {
            "text/html": [
              "<div>\n",
              "<style scoped>\n",
              "    .dataframe tbody tr th:only-of-type {\n",
              "        vertical-align: middle;\n",
              "    }\n",
              "\n",
              "    .dataframe tbody tr th {\n",
              "        vertical-align: top;\n",
              "    }\n",
              "\n",
              "    .dataframe thead th {\n",
              "        text-align: right;\n",
              "    }\n",
              "</style>\n",
              "<table border=\"1\" class=\"dataframe\">\n",
              "  <thead>\n",
              "    <tr style=\"text-align: right;\">\n",
              "      <th></th>\n",
              "      <th>lat</th>\n",
              "      <th>lng</th>\n",
              "      <th>desc</th>\n",
              "      <th>zip</th>\n",
              "      <th>title</th>\n",
              "      <th>timeStamp</th>\n",
              "      <th>twp</th>\n",
              "      <th>addr</th>\n",
              "      <th>e</th>\n",
              "      <th>Reason</th>\n",
              "      <th>hour</th>\n",
              "      <th>month</th>\n",
              "      <th>day of week</th>\n",
              "      <th>Year</th>\n",
              "    </tr>\n",
              "  </thead>\n",
              "  <tbody>\n",
              "    <tr>\n",
              "      <th>0</th>\n",
              "      <td>40.297876</td>\n",
              "      <td>-75.581294</td>\n",
              "      <td>REINDEER CT &amp; DEAD END;  NEW HANOVER; Station ...</td>\n",
              "      <td>19525.0</td>\n",
              "      <td>EMS: BACK PAINS/INJURY</td>\n",
              "      <td>2015-12-10 17:10:52</td>\n",
              "      <td>NEW HANOVER</td>\n",
              "      <td>REINDEER CT &amp; DEAD END</td>\n",
              "      <td>1.0</td>\n",
              "      <td>EMS</td>\n",
              "      <td>17.0</td>\n",
              "      <td>12.0</td>\n",
              "      <td>Thu</td>\n",
              "      <td>2015.0</td>\n",
              "    </tr>\n",
              "    <tr>\n",
              "      <th>1</th>\n",
              "      <td>40.258061</td>\n",
              "      <td>-75.264680</td>\n",
              "      <td>BRIAR PATH &amp; WHITEMARSH LN;  HATFIELD TOWNSHIP...</td>\n",
              "      <td>19446.0</td>\n",
              "      <td>EMS: DIABETIC EMERGENCY</td>\n",
              "      <td>2015-12-10 17:29:21</td>\n",
              "      <td>HATFIELD TOWNSHIP</td>\n",
              "      <td>BRIAR PATH &amp; WHITEMARSH LN</td>\n",
              "      <td>1.0</td>\n",
              "      <td>EMS</td>\n",
              "      <td>17.0</td>\n",
              "      <td>12.0</td>\n",
              "      <td>Thu</td>\n",
              "      <td>2015.0</td>\n",
              "    </tr>\n",
              "    <tr>\n",
              "      <th>2</th>\n",
              "      <td>40.121182</td>\n",
              "      <td>-75.351975</td>\n",
              "      <td>HAWS AVE; NORRISTOWN; 2015-12-10 @ 14:39:21-St...</td>\n",
              "      <td>19401.0</td>\n",
              "      <td>Fire: GAS-ODOR/LEAK</td>\n",
              "      <td>2015-12-10 14:39:21</td>\n",
              "      <td>NORRISTOWN</td>\n",
              "      <td>HAWS AVE</td>\n",
              "      <td>1.0</td>\n",
              "      <td>Fire</td>\n",
              "      <td>14.0</td>\n",
              "      <td>12.0</td>\n",
              "      <td>Thu</td>\n",
              "      <td>2015.0</td>\n",
              "    </tr>\n",
              "    <tr>\n",
              "      <th>3</th>\n",
              "      <td>40.116153</td>\n",
              "      <td>-75.343513</td>\n",
              "      <td>AIRY ST &amp; SWEDE ST;  NORRISTOWN; Station 308A;...</td>\n",
              "      <td>19401.0</td>\n",
              "      <td>EMS: CARDIAC EMERGENCY</td>\n",
              "      <td>2015-12-10 16:47:36</td>\n",
              "      <td>NORRISTOWN</td>\n",
              "      <td>AIRY ST &amp; SWEDE ST</td>\n",
              "      <td>1.0</td>\n",
              "      <td>EMS</td>\n",
              "      <td>16.0</td>\n",
              "      <td>12.0</td>\n",
              "      <td>Thu</td>\n",
              "      <td>2015.0</td>\n",
              "    </tr>\n",
              "    <tr>\n",
              "      <th>4</th>\n",
              "      <td>40.251492</td>\n",
              "      <td>-75.603350</td>\n",
              "      <td>CHERRYWOOD CT &amp; DEAD END;  LOWER POTTSGROVE; S...</td>\n",
              "      <td>NaN</td>\n",
              "      <td>EMS: DIZZINESS</td>\n",
              "      <td>2015-12-10 16:56:52</td>\n",
              "      <td>LOWER POTTSGROVE</td>\n",
              "      <td>CHERRYWOOD CT &amp; DEAD END</td>\n",
              "      <td>1.0</td>\n",
              "      <td>EMS</td>\n",
              "      <td>16.0</td>\n",
              "      <td>12.0</td>\n",
              "      <td>Thu</td>\n",
              "      <td>2015.0</td>\n",
              "    </tr>\n",
              "    <tr>\n",
              "      <th>...</th>\n",
              "      <td>...</td>\n",
              "      <td>...</td>\n",
              "      <td>...</td>\n",
              "      <td>...</td>\n",
              "      <td>...</td>\n",
              "      <td>...</td>\n",
              "      <td>...</td>\n",
              "      <td>...</td>\n",
              "      <td>...</td>\n",
              "      <td>...</td>\n",
              "      <td>...</td>\n",
              "      <td>...</td>\n",
              "      <td>...</td>\n",
              "      <td>...</td>\n",
              "    </tr>\n",
              "    <tr>\n",
              "      <th>7911</th>\n",
              "      <td>40.291231</td>\n",
              "      <td>-75.271800</td>\n",
              "      <td>BETHLEHEM PIKE &amp; SWARTLEY RD; BUCKS COUNTY; 20...</td>\n",
              "      <td>19440.0</td>\n",
              "      <td>Traffic: VEHICLE ACCIDENT -</td>\n",
              "      <td>2015-12-31 23:32:27</td>\n",
              "      <td>BUCKS COUNTY</td>\n",
              "      <td>BETHLEHEM PIKE &amp; SWARTLEY RD</td>\n",
              "      <td>1.0</td>\n",
              "      <td>Traffic</td>\n",
              "      <td>23.0</td>\n",
              "      <td>12.0</td>\n",
              "      <td>Thu</td>\n",
              "      <td>2015.0</td>\n",
              "    </tr>\n",
              "    <tr>\n",
              "      <th>7912</th>\n",
              "      <td>40.136020</td>\n",
              "      <td>-75.354606</td>\n",
              "      <td>BEECH DR &amp; SPRUCE ST;  WEST NORRITON; Station ...</td>\n",
              "      <td>19403.0</td>\n",
              "      <td>EMS: SEIZURES</td>\n",
              "      <td>2015-12-31 23:44:56</td>\n",
              "      <td>WEST NORRITON</td>\n",
              "      <td>BEECH DR &amp; SPRUCE ST</td>\n",
              "      <td>1.0</td>\n",
              "      <td>EMS</td>\n",
              "      <td>23.0</td>\n",
              "      <td>12.0</td>\n",
              "      <td>Thu</td>\n",
              "      <td>2015.0</td>\n",
              "    </tr>\n",
              "    <tr>\n",
              "      <th>7913</th>\n",
              "      <td>40.294817</td>\n",
              "      <td>-75.537972</td>\n",
              "      <td>BIG RD &amp; COLONIAL RD;  UPPER FREDERICK; Statio...</td>\n",
              "      <td>18074.0</td>\n",
              "      <td>EMS: FALL VICTIM</td>\n",
              "      <td>2015-12-31 23:54:02</td>\n",
              "      <td>UPPER FREDERICK</td>\n",
              "      <td>BIG RD &amp; COLONIAL RD</td>\n",
              "      <td>1.0</td>\n",
              "      <td>EMS</td>\n",
              "      <td>23.0</td>\n",
              "      <td>12.0</td>\n",
              "      <td>Thu</td>\n",
              "      <td>2015.0</td>\n",
              "    </tr>\n",
              "    <tr>\n",
              "      <th>7914</th>\n",
              "      <td>40.112336</td>\n",
              "      <td>-75.150554</td>\n",
              "      <td>ROBERTS AVE &amp; JENKINTOWN RD;  ABINGTON; Statio...</td>\n",
              "      <td>19038.0</td>\n",
              "      <td>EMS: CARDIAC EMERGENCY</td>\n",
              "      <td>2015-12-31 23:53:19</td>\n",
              "      <td>ABINGTON</td>\n",
              "      <td>ROBERTS AVE &amp; JENKINTOWN RD</td>\n",
              "      <td>1.0</td>\n",
              "      <td>EMS</td>\n",
              "      <td>23.0</td>\n",
              "      <td>12.0</td>\n",
              "      <td>Thu</td>\n",
              "      <td>2015.0</td>\n",
              "    </tr>\n",
              "    <tr>\n",
              "      <th>7915</th>\n",
              "      <td>40.081127</td>\n",
              "      <td>-75.160484</td>\n",
              "      <td>LIMEKILN PIKE &amp; EVERGREEN AVE; CHELTENHAM; 201...</td>\n",
              "      <td>19095.0</td>\n",
              "      <td>Traffic: DISABLED VEHICLE -</td>\n",
              "      <td>2015-12-31 23:52:46</td>\n",
              "      <td>CHELTENHAM</td>\n",
              "      <td>LIMEKILN PIKE &amp; EVERGREEN AVE</td>\n",
              "      <td>1.0</td>\n",
              "      <td>Traffic</td>\n",
              "      <td>23.0</td>\n",
              "      <td>12.0</td>\n",
              "      <td>Thu</td>\n",
              "      <td>2015.0</td>\n",
              "    </tr>\n",
              "  </tbody>\n",
              "</table>\n",
              "<p>7916 rows × 14 columns</p>\n",
              "</div>"
            ],
            "text/plain": [
              "            lat        lng  ... day of week    Year\n",
              "0     40.297876 -75.581294  ...         Thu  2015.0\n",
              "1     40.258061 -75.264680  ...         Thu  2015.0\n",
              "2     40.121182 -75.351975  ...         Thu  2015.0\n",
              "3     40.116153 -75.343513  ...         Thu  2015.0\n",
              "4     40.251492 -75.603350  ...         Thu  2015.0\n",
              "...         ...        ...  ...         ...     ...\n",
              "7911  40.291231 -75.271800  ...         Thu  2015.0\n",
              "7912  40.136020 -75.354606  ...         Thu  2015.0\n",
              "7913  40.294817 -75.537972  ...         Thu  2015.0\n",
              "7914  40.112336 -75.150554  ...         Thu  2015.0\n",
              "7915  40.081127 -75.160484  ...         Thu  2015.0\n",
              "\n",
              "[7916 rows x 14 columns]"
            ]
          },
          "metadata": {},
          "execution_count": 4
        }
      ]
    },
    {
      "cell_type": "code",
      "metadata": {
        "colab": {
          "base_uri": "https://localhost:8080/",
          "height": 606
        },
        "id": "-0qHJIvusKaA",
        "outputId": "cc2d7b6e-9718-43e7-9abc-43cf168b91c0"
      },
      "source": [
        "year_2016 = data[\"Year\"].isin([\"2016\"])\n",
        "data[year_2016]"
      ],
      "execution_count": 5,
      "outputs": [
        {
          "output_type": "execute_result",
          "data": {
            "text/html": [
              "<div>\n",
              "<style scoped>\n",
              "    .dataframe tbody tr th:only-of-type {\n",
              "        vertical-align: middle;\n",
              "    }\n",
              "\n",
              "    .dataframe tbody tr th {\n",
              "        vertical-align: top;\n",
              "    }\n",
              "\n",
              "    .dataframe thead th {\n",
              "        text-align: right;\n",
              "    }\n",
              "</style>\n",
              "<table border=\"1\" class=\"dataframe\">\n",
              "  <thead>\n",
              "    <tr style=\"text-align: right;\">\n",
              "      <th></th>\n",
              "      <th>lat</th>\n",
              "      <th>lng</th>\n",
              "      <th>desc</th>\n",
              "      <th>zip</th>\n",
              "      <th>title</th>\n",
              "      <th>timeStamp</th>\n",
              "      <th>twp</th>\n",
              "      <th>addr</th>\n",
              "      <th>e</th>\n",
              "      <th>Reason</th>\n",
              "      <th>hour</th>\n",
              "      <th>month</th>\n",
              "      <th>day of week</th>\n",
              "      <th>Year</th>\n",
              "    </tr>\n",
              "  </thead>\n",
              "  <tbody>\n",
              "    <tr>\n",
              "      <th>7916</th>\n",
              "      <td>40.121354</td>\n",
              "      <td>-75.363829</td>\n",
              "      <td>ROSEMONT AVE &amp; W WASHINGTON ST;  NORRISTOWN; S...</td>\n",
              "      <td>19401.0</td>\n",
              "      <td>EMS: ASSAULT VICTIM</td>\n",
              "      <td>2016-01-01 00:10:08</td>\n",
              "      <td>NORRISTOWN</td>\n",
              "      <td>ROSEMONT AVE &amp; W WASHINGTON ST</td>\n",
              "      <td>1.0</td>\n",
              "      <td>EMS</td>\n",
              "      <td>0.0</td>\n",
              "      <td>1.0</td>\n",
              "      <td>Fri</td>\n",
              "      <td>2016.0</td>\n",
              "    </tr>\n",
              "    <tr>\n",
              "      <th>7917</th>\n",
              "      <td>40.140505</td>\n",
              "      <td>-75.310874</td>\n",
              "      <td>GERMANTOWN PIKE &amp; HANNAH AVE;  EAST NORRITON; ...</td>\n",
              "      <td>19401.0</td>\n",
              "      <td>EMS: FALL VICTIM</td>\n",
              "      <td>2016-01-01 00:14:45</td>\n",
              "      <td>EAST NORRITON</td>\n",
              "      <td>GERMANTOWN PIKE &amp; HANNAH AVE</td>\n",
              "      <td>1.0</td>\n",
              "      <td>EMS</td>\n",
              "      <td>0.0</td>\n",
              "      <td>1.0</td>\n",
              "      <td>Fri</td>\n",
              "      <td>2016.0</td>\n",
              "    </tr>\n",
              "    <tr>\n",
              "      <th>7918</th>\n",
              "      <td>40.246837</td>\n",
              "      <td>-75.681381</td>\n",
              "      <td>VINE ST &amp; CENTER ST;  WEST POTTSGROVE; Station...</td>\n",
              "      <td>19464.0</td>\n",
              "      <td>EMS: ABDOMINAL PAINS</td>\n",
              "      <td>2016-01-01 00:20:43</td>\n",
              "      <td>WEST POTTSGROVE</td>\n",
              "      <td>VINE ST &amp; CENTER ST</td>\n",
              "      <td>1.0</td>\n",
              "      <td>EMS</td>\n",
              "      <td>0.0</td>\n",
              "      <td>1.0</td>\n",
              "      <td>Fri</td>\n",
              "      <td>2016.0</td>\n",
              "    </tr>\n",
              "    <tr>\n",
              "      <th>7919</th>\n",
              "      <td>40.097222</td>\n",
              "      <td>-75.376195</td>\n",
              "      <td>MARK LN &amp; DEAD END;  UPPER MERION; Station 317...</td>\n",
              "      <td>NaN</td>\n",
              "      <td>EMS: ALTERED MENTAL STATUS</td>\n",
              "      <td>2016-01-01 00:25:30</td>\n",
              "      <td>UPPER MERION</td>\n",
              "      <td>MARK LN &amp; DEAD END</td>\n",
              "      <td>1.0</td>\n",
              "      <td>EMS</td>\n",
              "      <td>0.0</td>\n",
              "      <td>1.0</td>\n",
              "      <td>Fri</td>\n",
              "      <td>2016.0</td>\n",
              "    </tr>\n",
              "    <tr>\n",
              "      <th>7920</th>\n",
              "      <td>40.148432</td>\n",
              "      <td>-75.219812</td>\n",
              "      <td>BANNOCKBURN AVE &amp; S SPRING GARDEN ST;  AMBLER;...</td>\n",
              "      <td>19002.0</td>\n",
              "      <td>EMS: DIABETIC EMERGENCY</td>\n",
              "      <td>2016-01-01 00:30:28</td>\n",
              "      <td>AMBLER</td>\n",
              "      <td>BANNOCKBURN AVE &amp; S SPRING GARDEN ST</td>\n",
              "      <td>1.0</td>\n",
              "      <td>EMS</td>\n",
              "      <td>0.0</td>\n",
              "      <td>1.0</td>\n",
              "      <td>Fri</td>\n",
              "      <td>2016.0</td>\n",
              "    </tr>\n",
              "    <tr>\n",
              "      <th>...</th>\n",
              "      <td>...</td>\n",
              "      <td>...</td>\n",
              "      <td>...</td>\n",
              "      <td>...</td>\n",
              "      <td>...</td>\n",
              "      <td>...</td>\n",
              "      <td>...</td>\n",
              "      <td>...</td>\n",
              "      <td>...</td>\n",
              "      <td>...</td>\n",
              "      <td>...</td>\n",
              "      <td>...</td>\n",
              "      <td>...</td>\n",
              "      <td>...</td>\n",
              "    </tr>\n",
              "    <tr>\n",
              "      <th>19872</th>\n",
              "      <td>40.197743</td>\n",
              "      <td>-75.116035</td>\n",
              "      <td>W COUNTY LINE RD &amp; MEETINGHOUSE RD; HORSHAM; 2...</td>\n",
              "      <td>19040.0</td>\n",
              "      <td>Traffic: VEHICLE ACCIDENT -</td>\n",
              "      <td>2016-01-28 17:42:46</td>\n",
              "      <td>HORSHAM</td>\n",
              "      <td>W COUNTY LINE RD &amp; MEETINGHOUSE RD</td>\n",
              "      <td>1.0</td>\n",
              "      <td>Traffic</td>\n",
              "      <td>17.0</td>\n",
              "      <td>1.0</td>\n",
              "      <td>Thu</td>\n",
              "      <td>2016.0</td>\n",
              "    </tr>\n",
              "    <tr>\n",
              "      <th>19873</th>\n",
              "      <td>40.135925</td>\n",
              "      <td>-75.303913</td>\n",
              "      <td>GERMANTOWN PIKE &amp; HILLTOP RD;  PLYMOUTH; Stati...</td>\n",
              "      <td>19462.0</td>\n",
              "      <td>EMS: CHOKING</td>\n",
              "      <td>2016-01-28 17:47:00</td>\n",
              "      <td>PLYMOUTH</td>\n",
              "      <td>GERMANTOWN PIKE &amp; HILLTOP RD</td>\n",
              "      <td>1.0</td>\n",
              "      <td>EMS</td>\n",
              "      <td>17.0</td>\n",
              "      <td>1.0</td>\n",
              "      <td>Thu</td>\n",
              "      <td>2016.0</td>\n",
              "    </tr>\n",
              "    <tr>\n",
              "      <th>19874</th>\n",
              "      <td>40.053223</td>\n",
              "      <td>-75.118032</td>\n",
              "      <td>BARCLAY RD &amp; LANFAIR RD;  CHELTENHAM; Station ...</td>\n",
              "      <td>19027.0</td>\n",
              "      <td>EMS: UNCONSCIOUS SUBJECT</td>\n",
              "      <td>2016-01-28 17:46:10</td>\n",
              "      <td>CHELTENHAM</td>\n",
              "      <td>BARCLAY RD &amp; LANFAIR RD</td>\n",
              "      <td>1.0</td>\n",
              "      <td>EMS</td>\n",
              "      <td>17.0</td>\n",
              "      <td>1.0</td>\n",
              "      <td>Thu</td>\n",
              "      <td>2016.0</td>\n",
              "    </tr>\n",
              "    <tr>\n",
              "      <th>19875</th>\n",
              "      <td>40.089029</td>\n",
              "      <td>-75.358512</td>\n",
              "      <td>HENDERSON RD &amp; SAULIN BLVD; UPPER MERION; 2016...</td>\n",
              "      <td>19406.0</td>\n",
              "      <td>Traffic: VEHICLE ACCIDENT -</td>\n",
              "      <td>2016-01-28 17:46:01</td>\n",
              "      <td>UPPER MERION</td>\n",
              "      <td>HENDERSON RD &amp; SAULIN BLVD</td>\n",
              "      <td>1.0</td>\n",
              "      <td>Traffic</td>\n",
              "      <td>17.0</td>\n",
              "      <td>1.0</td>\n",
              "      <td>Thu</td>\n",
              "      <td>2016.0</td>\n",
              "    </tr>\n",
              "    <tr>\n",
              "      <th>19876</th>\n",
              "      <td>40.167527</td>\n",
              "      <td>-75.124625</td>\n",
              "      <td>HATBORO AVE &amp; MILL RD; UPPER MORELAND; 2016-01...</td>\n",
              "      <td>19040.0</td>\n",
              "      <td>Traffic: VEHICLE ACCIDENT -</td>\n",
              "      <td>2016-01-28 17:39:36</td>\n",
              "      <td>UPPER MORELAND</td>\n",
              "      <td>HATBORO AVE &amp; MILL RD</td>\n",
              "      <td>1.0</td>\n",
              "      <td>Traffic</td>\n",
              "      <td>17.0</td>\n",
              "      <td>1.0</td>\n",
              "      <td>Thu</td>\n",
              "      <td>2016.0</td>\n",
              "    </tr>\n",
              "  </tbody>\n",
              "</table>\n",
              "<p>11961 rows × 14 columns</p>\n",
              "</div>"
            ],
            "text/plain": [
              "             lat        lng  ... day of week    Year\n",
              "7916   40.121354 -75.363829  ...         Fri  2016.0\n",
              "7917   40.140505 -75.310874  ...         Fri  2016.0\n",
              "7918   40.246837 -75.681381  ...         Fri  2016.0\n",
              "7919   40.097222 -75.376195  ...         Fri  2016.0\n",
              "7920   40.148432 -75.219812  ...         Fri  2016.0\n",
              "...          ...        ...  ...         ...     ...\n",
              "19872  40.197743 -75.116035  ...         Thu  2016.0\n",
              "19873  40.135925 -75.303913  ...         Thu  2016.0\n",
              "19874  40.053223 -75.118032  ...         Thu  2016.0\n",
              "19875  40.089029 -75.358512  ...         Thu  2016.0\n",
              "19876  40.167527 -75.124625  ...         Thu  2016.0\n",
              "\n",
              "[11961 rows x 14 columns]"
            ]
          },
          "metadata": {},
          "execution_count": 5
        }
      ]
    },
    {
      "cell_type": "code",
      "metadata": {
        "id": "Zk3nj1OhskSc",
        "colab": {
          "base_uri": "https://localhost:8080/"
        },
        "outputId": "ab065d08-e0af-41a8-f2a6-ca4751795cdf"
      },
      "source": [
        "data['Reason'].value_counts()"
      ],
      "execution_count": 6,
      "outputs": [
        {
          "output_type": "execute_result",
          "data": {
            "text/plain": [
              "EMS        9377\n",
              "Traffic    7648\n",
              "Fire       2852\n",
              "Name: Reason, dtype: int64"
            ]
          },
          "metadata": {},
          "execution_count": 6
        }
      ]
    },
    {
      "cell_type": "code",
      "metadata": {
        "colab": {
          "base_uri": "https://localhost:8080/"
        },
        "id": "9lSGSjD1xxgu",
        "outputId": "fb642a6c-6f4f-4c83-841d-01b592fb01be"
      },
      "source": [
        "data[year_2015]['Reason'].value_counts()"
      ],
      "execution_count": 7,
      "outputs": [
        {
          "output_type": "execute_result",
          "data": {
            "text/plain": [
              "EMS        3898\n",
              "Traffic    2923\n",
              "Fire       1095\n",
              "Name: Reason, dtype: int64"
            ]
          },
          "metadata": {},
          "execution_count": 7
        }
      ]
    },
    {
      "cell_type": "code",
      "metadata": {
        "colab": {
          "base_uri": "https://localhost:8080/"
        },
        "id": "dVOCptEayMqt",
        "outputId": "9c64b916-ef96-4d14-ba0d-b820f0752c4c"
      },
      "source": [
        "data[year_2016]['Reason'].value_counts()"
      ],
      "execution_count": 8,
      "outputs": [
        {
          "output_type": "execute_result",
          "data": {
            "text/plain": [
              "EMS        5479\n",
              "Traffic    4725\n",
              "Fire       1757\n",
              "Name: Reason, dtype: int64"
            ]
          },
          "metadata": {},
          "execution_count": 8
        }
      ]
    },
    {
      "cell_type": "code",
      "metadata": {
        "colab": {
          "base_uri": "https://localhost:8080/"
        },
        "id": "Wq0BBM1Zyw0D",
        "outputId": "c41be618-838b-4c7a-e5d2-de12f175dc3e"
      },
      "source": [
        "data[year_2015]['addr'].value_counts()"
      ],
      "execution_count": 9,
      "outputs": [
        {
          "output_type": "execute_result",
          "data": {
            "text/plain": [
              "SHANNONDELL DR & SHANNONDELL BLVD    72\n",
              "GULPH RD & KIRK AVE                  33\n",
              "MAIN ST & OLD SUMNEYTOWN PIKE        31\n",
              "THE FAIRWAY  & RYDAL RD              26\n",
              "GERMANTOWN PIKE & HANNAH AVE         25\n",
              "                                     ..\n",
              "WYNNEWOOD RD & WINCHESTER RD          1\n",
              "MAIN ST & FREED RD                    1\n",
              "E 6TH ST & N BROAD ST                 1\n",
              "MARSHALL ST & CENTRE AVE              1\n",
              "ASHLEY TER & GATEWAY DR               1\n",
              "Name: addr, Length: 4553, dtype: int64"
            ]
          },
          "metadata": {},
          "execution_count": 9
        }
      ]
    },
    {
      "cell_type": "code",
      "metadata": {
        "colab": {
          "base_uri": "https://localhost:8080/"
        },
        "id": "b8LHFU_byzMh",
        "outputId": "11b3f2c4-0cad-402e-ef47-2f30d83e9e68"
      },
      "source": [
        "data[year_2016]['addr'].value_counts()"
      ],
      "execution_count": 10,
      "outputs": [
        {
          "output_type": "execute_result",
          "data": {
            "text/plain": [
              "SHANNONDELL DR & SHANNONDELL BLVD        122\n",
              "THE FAIRWAY  & RYDAL RD                   37\n",
              "MAIN ST & OLD SUMNEYTOWN PIKE             37\n",
              "SCHUYLKILL EXPY & CROTON RD UNDERPASS     32\n",
              "DAVISVILLE RD & PENNYPACK RD              30\n",
              "                                        ... \n",
              "S HENDERSON RD & E CHURCH RD               1\n",
              "W LANCASTER AVE & PENN ST                  1\n",
              "PEPPER RD & WASHINGTON LN                  1\n",
              "GRANT ST & HAMILTON ST                     1\n",
              "ALDERFER RD & MANOR RD                     1\n",
              "Name: addr, Length: 6263, dtype: int64"
            ]
          },
          "metadata": {},
          "execution_count": 10
        }
      ]
    },
    {
      "cell_type": "code",
      "metadata": {
        "colab": {
          "base_uri": "https://localhost:8080/"
        },
        "id": "ihP8Ilgny4uR",
        "outputId": "83935404-b6b2-4f3d-ae7b-2e19bcd6a8ea"
      },
      "source": [
        "data[year_2015]['day of week'].value_counts()"
      ],
      "execution_count": 11,
      "outputs": [
        {
          "output_type": "execute_result",
          "data": {
            "text/plain": [
              "Thu    1262\n",
              "Mon    1251\n",
              "Wed    1247\n",
              "Tue    1234\n",
              "Fri    1058\n",
              "Sat     960\n",
              "Sun     904\n",
              "Name: day of week, dtype: int64"
            ]
          },
          "metadata": {},
          "execution_count": 11
        }
      ]
    },
    {
      "cell_type": "code",
      "metadata": {
        "colab": {
          "base_uri": "https://localhost:8080/"
        },
        "id": "vVZ2f37xzFbW",
        "outputId": "cf5a8022-9068-4425-fccf-9efb51673941"
      },
      "source": [
        "data[year_2016]['day of week'].value_counts()"
      ],
      "execution_count": 12,
      "outputs": [
        {
          "output_type": "execute_result",
          "data": {
            "text/plain": [
              "Tue    1961\n",
              "Sat    1904\n",
              "Mon    1718\n",
              "Wed    1683\n",
              "Sun    1666\n",
              "Fri    1533\n",
              "Thu    1496\n",
              "Name: day of week, dtype: int64"
            ]
          },
          "metadata": {},
          "execution_count": 12
        }
      ]
    },
    {
      "cell_type": "code",
      "metadata": {
        "id": "buLmNsXxzrmc",
        "colab": {
          "base_uri": "https://localhost:8080/",
          "height": 296
        },
        "outputId": "abe1f1a6-51ec-47ed-eec2-1aa806d3bac4"
      },
      "source": [
        "sns.countplot(x='Reason', data=data)"
      ],
      "execution_count": 14,
      "outputs": [
        {
          "output_type": "execute_result",
          "data": {
            "text/plain": [
              "<matplotlib.axes._subplots.AxesSubplot at 0x7f56e8d04f50>"
            ]
          },
          "metadata": {},
          "execution_count": 14
        },
        {
          "output_type": "display_data",
          "data": {
            "image/png": "[encoded data removed]",
            "text/plain": [
              "<Figure size 432x288 with 1 Axes>"
            ]
          },
          "metadata": {
            "needs_background": "light"
          }
        }
      ]
    },
    {
      "cell_type": "code",
      "metadata": {
        "colab": {
          "base_uri": "https://localhost:8080/",
          "height": 296
        },
        "id": "3l1dpUKG_JeJ",
        "outputId": "b11a4bd2-c2df-41cf-bcc5-7a4999480cc9"
      },
      "source": [
        "sns.countplot(x='hour', data=data, palette='viridis')"
      ],
      "execution_count": 15,
      "outputs": [
        {
          "output_type": "execute_result",
          "data": {
            "text/plain": [
              "<matplotlib.axes._subplots.AxesSubplot at 0x7f56e8c57f90>"
            ]
          },
          "metadata": {},
          "execution_count": 15
        },
        {
          "output_type": "display_data",
          "data": {
            "image/png": "[encoded data removed]",
            "text/plain": [
              "<Figure size 432x288 with 1 Axes>"
            ]
          },
          "metadata": {
            "needs_background": "light"
          }
        }
      ]
    },
    {
      "cell_type": "code",
      "metadata": {
        "colab": {
          "base_uri": "https://localhost:8080/",
          "height": 296
        },
        "id": "ek7yipqe_RSz",
        "outputId": "be504f60-d155-4324-b383-57d109bdda1a"
      },
      "source": [
        "\n",
        "sns.countplot(x='month', data=data, palette='viridis')"
      ],
      "execution_count": 16,
      "outputs": [
        {
          "output_type": "execute_result",
          "data": {
            "text/plain": [
              "<matplotlib.axes._subplots.AxesSubplot at 0x7f56e86c8850>"
            ]
          },
          "metadata": {},
          "execution_count": 16
        },
        {
          "output_type": "display_data",
          "data": {
            "image/png": "[encoded data removed]",
            "text/plain": [
              "<Figure size 432x288 with 1 Axes>"
            ]
          },
          "metadata": {
            "needs_background": "light"
          }
        }
      ]
    },
    {
      "cell_type": "code",
      "metadata": {
        "colab": {
          "base_uri": "https://localhost:8080/",
          "height": 296
        },
        "id": "w5GuSL0b_UFm",
        "outputId": "fb997cac-e7bd-45c6-a46b-23834cd80f99"
      },
      "source": [
        "sns.countplot(x='day of week', data=data, palette='viridis')"
      ],
      "execution_count": 17,
      "outputs": [
        {
          "output_type": "execute_result",
          "data": {
            "text/plain": [
              "<matplotlib.axes._subplots.AxesSubplot at 0x7f56e86343d0>"
            ]
          },
          "metadata": {},
          "execution_count": 17
        },
        {
          "output_type": "display_data",
          "data": {
            "image/png": "[encoded data removed]",
            "text/plain": [
              "<Figure size 432x288 with 1 Axes>"
            ]
          },
          "metadata": {
            "needs_background": "light"
          }
        }
      ]
    },
    {
      "cell_type": "code",
      "metadata": {
        "id": "xDNDiFM1_Xh5"
      },
      "source": [
        ""
      ],
      "execution_count": null,
      "outputs": []
    }
  ]
}