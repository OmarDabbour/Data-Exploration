{
  "nbformat": 4,
  "nbformat_minor": 0,
  "metadata": {
    "colab": {
      "name": "CovidDataset.ipynb",
      "provenance": [],
      "collapsed_sections": []
    },
    "kernelspec": {
      "name": "python3",
      "display_name": "Python 3"
    },
    "language_info": {
      "name": "python"
    }
  },
  "cells": [
    {
      "cell_type": "code",
      "metadata": {
        "id": "CPa-eaUJwnLn"
      },
      "source": [
        "import pandas as pd\n",
        "import matplotlib as plt\n",
        "import seaborn as sns\n",
        "sns.set(rc={'figure.figsize': [14, 7]}, font_scale=1.2)"
      ],
      "execution_count": null,
      "outputs": []
    },
    {
      "cell_type": "code",
      "metadata": {
        "id": "JSAnI4kNxn28"
      },
      "source": [
        "data = pd.read_csv ('covid-19.csv')"
      ],
      "execution_count": null,
      "outputs": []
    },
    {
      "cell_type": "code",
      "metadata": {
        "colab": {
          "base_uri": "https://localhost:8080/",
          "height": 272
        },
        "id": "l1s4R6S8xway",
        "outputId": "5430be84-a123-4c72-9cf6-8d0f1072c596"
      },
      "source": [
        "data.head()"
      ],
      "execution_count": null,
      "outputs": [
        {
          "output_type": "execute_result",
          "data": {
            "text/html": [
              "<div>\n",
              "<style scoped>\n",
              "    .dataframe tbody tr th:only-of-type {\n",
              "        vertical-align: middle;\n",
              "    }\n",
              "\n",
              "    .dataframe tbody tr th {\n",
              "        vertical-align: top;\n",
              "    }\n",
              "\n",
              "    .dataframe thead th {\n",
              "        text-align: right;\n",
              "    }\n",
              "</style>\n",
              "<table border=\"1\" class=\"dataframe\">\n",
              "  <thead>\n",
              "    <tr style=\"text-align: right;\">\n",
              "      <th></th>\n",
              "      <th>Country/Region</th>\n",
              "      <th>Confirmed</th>\n",
              "      <th>Deaths</th>\n",
              "      <th>Recovered</th>\n",
              "      <th>Active</th>\n",
              "      <th>New cases</th>\n",
              "      <th>New deaths</th>\n",
              "      <th>New recovered</th>\n",
              "      <th>Deaths / 100 Cases</th>\n",
              "      <th>Recovered / 100 Cases</th>\n",
              "      <th>Deaths / 100 Recovered</th>\n",
              "      <th>Confirmed last week</th>\n",
              "      <th>1 week change</th>\n",
              "      <th>1 week % increase</th>\n",
              "      <th>WHO Region</th>\n",
              "    </tr>\n",
              "  </thead>\n",
              "  <tbody>\n",
              "    <tr>\n",
              "      <th>0</th>\n",
              "      <td>Afghanistan</td>\n",
              "      <td>36263</td>\n",
              "      <td>1269</td>\n",
              "      <td>25198</td>\n",
              "      <td>9796</td>\n",
              "      <td>106</td>\n",
              "      <td>10</td>\n",
              "      <td>18</td>\n",
              "      <td>3.50</td>\n",
              "      <td>69.49</td>\n",
              "      <td>5.04</td>\n",
              "      <td>35526</td>\n",
              "      <td>737</td>\n",
              "      <td>2.07</td>\n",
              "      <td>Eastern Mediterranean</td>\n",
              "    </tr>\n",
              "    <tr>\n",
              "      <th>1</th>\n",
              "      <td>Albania</td>\n",
              "      <td>4880</td>\n",
              "      <td>144</td>\n",
              "      <td>2745</td>\n",
              "      <td>1991</td>\n",
              "      <td>117</td>\n",
              "      <td>6</td>\n",
              "      <td>63</td>\n",
              "      <td>2.95</td>\n",
              "      <td>56.25</td>\n",
              "      <td>5.25</td>\n",
              "      <td>4171</td>\n",
              "      <td>709</td>\n",
              "      <td>17.00</td>\n",
              "      <td>Europe</td>\n",
              "    </tr>\n",
              "    <tr>\n",
              "      <th>2</th>\n",
              "      <td>Algeria</td>\n",
              "      <td>27973</td>\n",
              "      <td>1163</td>\n",
              "      <td>18837</td>\n",
              "      <td>7973</td>\n",
              "      <td>616</td>\n",
              "      <td>8</td>\n",
              "      <td>749</td>\n",
              "      <td>4.16</td>\n",
              "      <td>67.34</td>\n",
              "      <td>6.17</td>\n",
              "      <td>23691</td>\n",
              "      <td>4282</td>\n",
              "      <td>18.07</td>\n",
              "      <td>Africa</td>\n",
              "    </tr>\n",
              "    <tr>\n",
              "      <th>3</th>\n",
              "      <td>Andorra</td>\n",
              "      <td>907</td>\n",
              "      <td>52</td>\n",
              "      <td>803</td>\n",
              "      <td>52</td>\n",
              "      <td>10</td>\n",
              "      <td>0</td>\n",
              "      <td>0</td>\n",
              "      <td>5.73</td>\n",
              "      <td>88.53</td>\n",
              "      <td>6.48</td>\n",
              "      <td>884</td>\n",
              "      <td>23</td>\n",
              "      <td>2.60</td>\n",
              "      <td>Europe</td>\n",
              "    </tr>\n",
              "    <tr>\n",
              "      <th>4</th>\n",
              "      <td>Angola</td>\n",
              "      <td>950</td>\n",
              "      <td>41</td>\n",
              "      <td>242</td>\n",
              "      <td>667</td>\n",
              "      <td>18</td>\n",
              "      <td>1</td>\n",
              "      <td>0</td>\n",
              "      <td>4.32</td>\n",
              "      <td>25.47</td>\n",
              "      <td>16.94</td>\n",
              "      <td>749</td>\n",
              "      <td>201</td>\n",
              "      <td>26.84</td>\n",
              "      <td>Africa</td>\n",
              "    </tr>\n",
              "  </tbody>\n",
              "</table>\n",
              "</div>"
            ],
            "text/plain": [
              "  Country/Region  Confirmed  ...  1 week % increase             WHO Region\n",
              "0    Afghanistan      36263  ...               2.07  Eastern Mediterranean\n",
              "1        Albania       4880  ...              17.00                 Europe\n",
              "2        Algeria      27973  ...              18.07                 Africa\n",
              "3        Andorra        907  ...               2.60                 Europe\n",
              "4         Angola        950  ...              26.84                 Africa\n",
              "\n",
              "[5 rows x 15 columns]"
            ]
          },
          "metadata": {},
          "execution_count": 6
        }
      ]
    },
    {
      "cell_type": "code",
      "metadata": {
        "colab": {
          "base_uri": "https://localhost:8080/"
        },
        "id": "fnnOUlxzxylz",
        "outputId": "d329baaa-d1e9-4368-cc9f-c3af6dac0ce7"
      },
      "source": [
        "data['Deaths'].max()"
      ],
      "execution_count": null,
      "outputs": [
        {
          "output_type": "execute_result",
          "data": {
            "text/plain": [
              "148011"
            ]
          },
          "metadata": {},
          "execution_count": 8
        }
      ]
    },
    {
      "cell_type": "code",
      "metadata": {
        "colab": {
          "base_uri": "https://localhost:8080/"
        },
        "id": "VXX5H5CdyGWG",
        "outputId": "c667c270-3758-4c37-aebe-1ee68a1b319b"
      },
      "source": [
        "data[data['Deaths']==data['Deaths'].max()]['Country/Region']"
      ],
      "execution_count": null,
      "outputs": [
        {
          "output_type": "execute_result",
          "data": {
            "text/plain": [
              "173    US\n",
              "Name: Country/Region, dtype: object"
            ]
          },
          "metadata": {},
          "execution_count": 10
        }
      ]
    },
    {
      "cell_type": "code",
      "metadata": {
        "colab": {
          "base_uri": "https://localhost:8080/"
        },
        "id": "Po8lc03mydpq",
        "outputId": "e9bf1720-987e-48fd-841a-1e86622248e2"
      },
      "source": [
        "data[data['Recovered']==data['Recovered'].max()]['Country/Region']"
      ],
      "execution_count": null,
      "outputs": [
        {
          "output_type": "execute_result",
          "data": {
            "text/plain": [
              "23    Brazil\n",
              "Name: Country/Region, dtype: object"
            ]
          },
          "metadata": {},
          "execution_count": 12
        }
      ]
    },
    {
      "cell_type": "code",
      "metadata": {
        "colab": {
          "base_uri": "https://localhost:8080/"
        },
        "id": "pMR6mMYfy8xX",
        "outputId": "46905deb-fa93-47f8-e02b-a102e7d0d00b"
      },
      "source": [
        "data[data['Recovered']==data['Recovered'].min()]['Country/Region']"
      ],
      "execution_count": null,
      "outputs": [
        {
          "output_type": "execute_result",
          "data": {
            "text/plain": [
              "32          Canada\n",
              "117     Mozambique\n",
              "147         Serbia\n",
              "161         Sweden\n",
              "163          Syria\n",
              "168    Timor-Leste\n",
              "Name: Country/Region, dtype: object"
            ]
          },
          "metadata": {},
          "execution_count": 13
        }
      ]
    },
    {
      "cell_type": "code",
      "metadata": {
        "id": "oBHNSwf3y--R"
      },
      "source": [
        "Europe = data[data['WHO Region']=='Europe']['Country/Region']"
      ],
      "execution_count": null,
      "outputs": []
    },
    {
      "cell_type": "code",
      "metadata": {
        "colab": {
          "base_uri": "https://localhost:8080/",
          "height": 415
        },
        "id": "4ElEgJelzg56",
        "outputId": "a760fcaf-9605-49cc-cd0c-27401ff5525b"
      },
      "source": [
        "x=data[['WHO Region','Active']]\n",
        "x"
      ],
      "execution_count": null,
      "outputs": [
        {
          "output_type": "execute_result",
          "data": {
            "text/html": [
              "<div>\n",
              "<style scoped>\n",
              "    .dataframe tbody tr th:only-of-type {\n",
              "        vertical-align: middle;\n",
              "    }\n",
              "\n",
              "    .dataframe tbody tr th {\n",
              "        vertical-align: top;\n",
              "    }\n",
              "\n",
              "    .dataframe thead th {\n",
              "        text-align: right;\n",
              "    }\n",
              "</style>\n",
              "<table border=\"1\" class=\"dataframe\">\n",
              "  <thead>\n",
              "    <tr style=\"text-align: right;\">\n",
              "      <th></th>\n",
              "      <th>WHO Region</th>\n",
              "      <th>Active</th>\n",
              "    </tr>\n",
              "  </thead>\n",
              "  <tbody>\n",
              "    <tr>\n",
              "      <th>0</th>\n",
              "      <td>Eastern Mediterranean</td>\n",
              "      <td>9796</td>\n",
              "    </tr>\n",
              "    <tr>\n",
              "      <th>1</th>\n",
              "      <td>Europe</td>\n",
              "      <td>1991</td>\n",
              "    </tr>\n",
              "    <tr>\n",
              "      <th>2</th>\n",
              "      <td>Africa</td>\n",
              "      <td>7973</td>\n",
              "    </tr>\n",
              "    <tr>\n",
              "      <th>3</th>\n",
              "      <td>Europe</td>\n",
              "      <td>52</td>\n",
              "    </tr>\n",
              "    <tr>\n",
              "      <th>4</th>\n",
              "      <td>Africa</td>\n",
              "      <td>667</td>\n",
              "    </tr>\n",
              "    <tr>\n",
              "      <th>...</th>\n",
              "      <td>...</td>\n",
              "      <td>...</td>\n",
              "    </tr>\n",
              "    <tr>\n",
              "      <th>182</th>\n",
              "      <td>Eastern Mediterranean</td>\n",
              "      <td>6791</td>\n",
              "    </tr>\n",
              "    <tr>\n",
              "      <th>183</th>\n",
              "      <td>Africa</td>\n",
              "      <td>1</td>\n",
              "    </tr>\n",
              "    <tr>\n",
              "      <th>184</th>\n",
              "      <td>Eastern Mediterranean</td>\n",
              "      <td>375</td>\n",
              "    </tr>\n",
              "    <tr>\n",
              "      <th>185</th>\n",
              "      <td>Africa</td>\n",
              "      <td>1597</td>\n",
              "    </tr>\n",
              "    <tr>\n",
              "      <th>186</th>\n",
              "      <td>Africa</td>\n",
              "      <td>2126</td>\n",
              "    </tr>\n",
              "  </tbody>\n",
              "</table>\n",
              "<p>187 rows × 2 columns</p>\n",
              "</div>"
            ],
            "text/plain": [
              "                WHO Region  Active\n",
              "0    Eastern Mediterranean    9796\n",
              "1                   Europe    1991\n",
              "2                   Africa    7973\n",
              "3                   Europe      52\n",
              "4                   Africa     667\n",
              "..                     ...     ...\n",
              "182  Eastern Mediterranean    6791\n",
              "183                 Africa       1\n",
              "184  Eastern Mediterranean     375\n",
              "185                 Africa    1597\n",
              "186                 Africa    2126\n",
              "\n",
              "[187 rows x 2 columns]"
            ]
          },
          "metadata": {},
          "execution_count": 34
        }
      ]
    },
    {
      "cell_type": "code",
      "metadata": {
        "colab": {
          "base_uri": "https://localhost:8080/",
          "height": 337
        },
        "id": "Vl3cPqKI1h6-",
        "outputId": "59cb22d5-6b59-4f21-8c12-e5cf6c2a8263"
      },
      "source": [
        "covid_by_regions = data.groupby('WHO Region',as_index = False).sum()\n",
        "covid_by_regions"
      ],
      "execution_count": null,
      "outputs": [
        {
          "output_type": "execute_result",
          "data": {
            "text/html": [
              "<div>\n",
              "<style scoped>\n",
              "    .dataframe tbody tr th:only-of-type {\n",
              "        vertical-align: middle;\n",
              "    }\n",
              "\n",
              "    .dataframe tbody tr th {\n",
              "        vertical-align: top;\n",
              "    }\n",
              "\n",
              "    .dataframe thead th {\n",
              "        text-align: right;\n",
              "    }\n",
              "</style>\n",
              "<table border=\"1\" class=\"dataframe\">\n",
              "  <thead>\n",
              "    <tr style=\"text-align: right;\">\n",
              "      <th></th>\n",
              "      <th>WHO Region</th>\n",
              "      <th>Confirmed</th>\n",
              "      <th>Deaths</th>\n",
              "      <th>Recovered</th>\n",
              "      <th>Active</th>\n",
              "      <th>New cases</th>\n",
              "      <th>New deaths</th>\n",
              "      <th>New recovered</th>\n",
              "      <th>Deaths / 100 Cases</th>\n",
              "      <th>Recovered / 100 Cases</th>\n",
              "      <th>Deaths / 100 Recovered</th>\n",
              "      <th>Confirmed last week</th>\n",
              "      <th>1 week change</th>\n",
              "      <th>1 week % increase</th>\n",
              "    </tr>\n",
              "  </thead>\n",
              "  <tbody>\n",
              "    <tr>\n",
              "      <th>0</th>\n",
              "      <td>Africa</td>\n",
              "      <td>723207</td>\n",
              "      <td>12223</td>\n",
              "      <td>440645</td>\n",
              "      <td>270339</td>\n",
              "      <td>12176</td>\n",
              "      <td>353</td>\n",
              "      <td>14563</td>\n",
              "      <td>110.71</td>\n",
              "      <td>2736.71</td>\n",
              "      <td>inf</td>\n",
              "      <td>608120</td>\n",
              "      <td>115087</td>\n",
              "      <td>868.15</td>\n",
              "    </tr>\n",
              "    <tr>\n",
              "      <th>1</th>\n",
              "      <td>Americas</td>\n",
              "      <td>8839286</td>\n",
              "      <td>342732</td>\n",
              "      <td>4468616</td>\n",
              "      <td>4027938</td>\n",
              "      <td>129531</td>\n",
              "      <td>3555</td>\n",
              "      <td>94776</td>\n",
              "      <td>106.84</td>\n",
              "      <td>2180.20</td>\n",
              "      <td>inf</td>\n",
              "      <td>7815198</td>\n",
              "      <td>1024088</td>\n",
              "      <td>571.59</td>\n",
              "    </tr>\n",
              "    <tr>\n",
              "      <th>2</th>\n",
              "      <td>Eastern Mediterranean</td>\n",
              "      <td>1490744</td>\n",
              "      <td>38339</td>\n",
              "      <td>1201400</td>\n",
              "      <td>251005</td>\n",
              "      <td>12410</td>\n",
              "      <td>445</td>\n",
              "      <td>14843</td>\n",
              "      <td>78.39</td>\n",
              "      <td>1465.05</td>\n",
              "      <td>inf</td>\n",
              "      <td>1398847</td>\n",
              "      <td>91897</td>\n",
              "      <td>230.61</td>\n",
              "    </tr>\n",
              "    <tr>\n",
              "      <th>3</th>\n",
              "      <td>Europe</td>\n",
              "      <td>3299523</td>\n",
              "      <td>211144</td>\n",
              "      <td>1993723</td>\n",
              "      <td>1094656</td>\n",
              "      <td>22294</td>\n",
              "      <td>304</td>\n",
              "      <td>11732</td>\n",
              "      <td>235.11</td>\n",
              "      <td>3843.56</td>\n",
              "      <td>inf</td>\n",
              "      <td>3146816</td>\n",
              "      <td>152707</td>\n",
              "      <td>435.10</td>\n",
              "    </tr>\n",
              "    <tr>\n",
              "      <th>4</th>\n",
              "      <td>South-East Asia</td>\n",
              "      <td>1835297</td>\n",
              "      <td>41349</td>\n",
              "      <td>1156933</td>\n",
              "      <td>637015</td>\n",
              "      <td>48993</td>\n",
              "      <td>734</td>\n",
              "      <td>37582</td>\n",
              "      <td>12.96</td>\n",
              "      <td>667.04</td>\n",
              "      <td>19.56</td>\n",
              "      <td>1478283</td>\n",
              "      <td>357014</td>\n",
              "      <td>85.13</td>\n",
              "    </tr>\n",
              "    <tr>\n",
              "      <th>5</th>\n",
              "      <td>Western Pacific</td>\n",
              "      <td>292428</td>\n",
              "      <td>8249</td>\n",
              "      <td>206770</td>\n",
              "      <td>77409</td>\n",
              "      <td>3289</td>\n",
              "      <td>24</td>\n",
              "      <td>1127</td>\n",
              "      <td>20.64</td>\n",
              "      <td>1228.88</td>\n",
              "      <td>28.60</td>\n",
              "      <td>266359</td>\n",
              "      <td>26069</td>\n",
              "      <td>353.78</td>\n",
              "    </tr>\n",
              "  </tbody>\n",
              "</table>\n",
              "</div>"
            ],
            "text/plain": [
              "              WHO Region  Confirmed  ...  1 week change  1 week % increase\n",
              "0                 Africa     723207  ...         115087             868.15\n",
              "1               Americas    8839286  ...        1024088             571.59\n",
              "2  Eastern Mediterranean    1490744  ...          91897             230.61\n",
              "3                 Europe    3299523  ...         152707             435.10\n",
              "4        South-East Asia    1835297  ...         357014              85.13\n",
              "5        Western Pacific     292428  ...          26069             353.78\n",
              "\n",
              "[6 rows x 14 columns]"
            ]
          },
          "metadata": {},
          "execution_count": 68
        }
      ]
    },
    {
      "cell_type": "code",
      "metadata": {
        "colab": {
          "base_uri": "https://localhost:8080/"
        },
        "id": "_dTC9qWT7EWJ",
        "outputId": "00df831b-1f9f-4c18-d376-c234579802f3"
      },
      "source": [
        "covid_by_regions\n",
        "covid_by_regions['Active'].min()"
      ],
      "execution_count": null,
      "outputs": [
        {
          "output_type": "execute_result",
          "data": {
            "text/plain": [
              "77409"
            ]
          },
          "metadata": {},
          "execution_count": 64
        }
      ]
    },
    {
      "cell_type": "code",
      "metadata": {
        "colab": {
          "base_uri": "https://localhost:8080/",
          "height": 337
        },
        "id": "WXvQtgiD9Cp0",
        "outputId": "3412499d-24f8-4d6b-cfbc-4eb66dc773b4"
      },
      "source": [
        "covid_by_regions.sort_values(by='Active')"
      ],
      "execution_count": null,
      "outputs": [
        {
          "output_type": "execute_result",
          "data": {
            "text/html": [
              "<div>\n",
              "<style scoped>\n",
              "    .dataframe tbody tr th:only-of-type {\n",
              "        vertical-align: middle;\n",
              "    }\n",
              "\n",
              "    .dataframe tbody tr th {\n",
              "        vertical-align: top;\n",
              "    }\n",
              "\n",
              "    .dataframe thead th {\n",
              "        text-align: right;\n",
              "    }\n",
              "</style>\n",
              "<table border=\"1\" class=\"dataframe\">\n",
              "  <thead>\n",
              "    <tr style=\"text-align: right;\">\n",
              "      <th></th>\n",
              "      <th>WHO Region</th>\n",
              "      <th>Confirmed</th>\n",
              "      <th>Deaths</th>\n",
              "      <th>Recovered</th>\n",
              "      <th>Active</th>\n",
              "      <th>New cases</th>\n",
              "      <th>New deaths</th>\n",
              "      <th>New recovered</th>\n",
              "      <th>Deaths / 100 Cases</th>\n",
              "      <th>Recovered / 100 Cases</th>\n",
              "      <th>Deaths / 100 Recovered</th>\n",
              "      <th>Confirmed last week</th>\n",
              "      <th>1 week change</th>\n",
              "      <th>1 week % increase</th>\n",
              "    </tr>\n",
              "  </thead>\n",
              "  <tbody>\n",
              "    <tr>\n",
              "      <th>5</th>\n",
              "      <td>Western Pacific</td>\n",
              "      <td>292428</td>\n",
              "      <td>8249</td>\n",
              "      <td>206770</td>\n",
              "      <td>77409</td>\n",
              "      <td>3289</td>\n",
              "      <td>24</td>\n",
              "      <td>1127</td>\n",
              "      <td>20.64</td>\n",
              "      <td>1228.88</td>\n",
              "      <td>28.60</td>\n",
              "      <td>266359</td>\n",
              "      <td>26069</td>\n",
              "      <td>353.78</td>\n",
              "    </tr>\n",
              "    <tr>\n",
              "      <th>2</th>\n",
              "      <td>Eastern Mediterranean</td>\n",
              "      <td>1490744</td>\n",
              "      <td>38339</td>\n",
              "      <td>1201400</td>\n",
              "      <td>251005</td>\n",
              "      <td>12410</td>\n",
              "      <td>445</td>\n",
              "      <td>14843</td>\n",
              "      <td>78.39</td>\n",
              "      <td>1465.05</td>\n",
              "      <td>inf</td>\n",
              "      <td>1398847</td>\n",
              "      <td>91897</td>\n",
              "      <td>230.61</td>\n",
              "    </tr>\n",
              "    <tr>\n",
              "      <th>0</th>\n",
              "      <td>Africa</td>\n",
              "      <td>723207</td>\n",
              "      <td>12223</td>\n",
              "      <td>440645</td>\n",
              "      <td>270339</td>\n",
              "      <td>12176</td>\n",
              "      <td>353</td>\n",
              "      <td>14563</td>\n",
              "      <td>110.71</td>\n",
              "      <td>2736.71</td>\n",
              "      <td>inf</td>\n",
              "      <td>608120</td>\n",
              "      <td>115087</td>\n",
              "      <td>868.15</td>\n",
              "    </tr>\n",
              "    <tr>\n",
              "      <th>4</th>\n",
              "      <td>South-East Asia</td>\n",
              "      <td>1835297</td>\n",
              "      <td>41349</td>\n",
              "      <td>1156933</td>\n",
              "      <td>637015</td>\n",
              "      <td>48993</td>\n",
              "      <td>734</td>\n",
              "      <td>37582</td>\n",
              "      <td>12.96</td>\n",
              "      <td>667.04</td>\n",
              "      <td>19.56</td>\n",
              "      <td>1478283</td>\n",
              "      <td>357014</td>\n",
              "      <td>85.13</td>\n",
              "    </tr>\n",
              "    <tr>\n",
              "      <th>3</th>\n",
              "      <td>Europe</td>\n",
              "      <td>3299523</td>\n",
              "      <td>211144</td>\n",
              "      <td>1993723</td>\n",
              "      <td>1094656</td>\n",
              "      <td>22294</td>\n",
              "      <td>304</td>\n",
              "      <td>11732</td>\n",
              "      <td>235.11</td>\n",
              "      <td>3843.56</td>\n",
              "      <td>inf</td>\n",
              "      <td>3146816</td>\n",
              "      <td>152707</td>\n",
              "      <td>435.10</td>\n",
              "    </tr>\n",
              "    <tr>\n",
              "      <th>1</th>\n",
              "      <td>Americas</td>\n",
              "      <td>8839286</td>\n",
              "      <td>342732</td>\n",
              "      <td>4468616</td>\n",
              "      <td>4027938</td>\n",
              "      <td>129531</td>\n",
              "      <td>3555</td>\n",
              "      <td>94776</td>\n",
              "      <td>106.84</td>\n",
              "      <td>2180.20</td>\n",
              "      <td>inf</td>\n",
              "      <td>7815198</td>\n",
              "      <td>1024088</td>\n",
              "      <td>571.59</td>\n",
              "    </tr>\n",
              "  </tbody>\n",
              "</table>\n",
              "</div>"
            ],
            "text/plain": [
              "              WHO Region  Confirmed  ...  1 week change  1 week % increase\n",
              "5        Western Pacific     292428  ...          26069             353.78\n",
              "2  Eastern Mediterranean    1490744  ...          91897             230.61\n",
              "0                 Africa     723207  ...         115087             868.15\n",
              "4        South-East Asia    1835297  ...         357014              85.13\n",
              "3                 Europe    3299523  ...         152707             435.10\n",
              "1               Americas    8839286  ...        1024088             571.59\n",
              "\n",
              "[6 rows x 14 columns]"
            ]
          },
          "metadata": {},
          "execution_count": 70
        }
      ]
    },
    {
      "cell_type": "code",
      "metadata": {
        "colab": {
          "base_uri": "https://localhost:8080/",
          "height": 233
        },
        "id": "OYsdgUjNYH7q",
        "outputId": "b5507b9b-934c-4df8-f038-582c5e88a032"
      },
      "source": [
        "active_deaths=covid_by_regions[['WHO Region','Active','Deaths']]\n",
        "active_deaths"
      ],
      "execution_count": null,
      "outputs": [
        {
          "output_type": "execute_result",
          "data": {
            "text/html": [
              "<div>\n",
              "<style scoped>\n",
              "    .dataframe tbody tr th:only-of-type {\n",
              "        vertical-align: middle;\n",
              "    }\n",
              "\n",
              "    .dataframe tbody tr th {\n",
              "        vertical-align: top;\n",
              "    }\n",
              "\n",
              "    .dataframe thead th {\n",
              "        text-align: right;\n",
              "    }\n",
              "</style>\n",
              "<table border=\"1\" class=\"dataframe\">\n",
              "  <thead>\n",
              "    <tr style=\"text-align: right;\">\n",
              "      <th></th>\n",
              "      <th>WHO Region</th>\n",
              "      <th>Active</th>\n",
              "      <th>Deaths</th>\n",
              "    </tr>\n",
              "  </thead>\n",
              "  <tbody>\n",
              "    <tr>\n",
              "      <th>0</th>\n",
              "      <td>Africa</td>\n",
              "      <td>270339</td>\n",
              "      <td>12223</td>\n",
              "    </tr>\n",
              "    <tr>\n",
              "      <th>1</th>\n",
              "      <td>Americas</td>\n",
              "      <td>4027938</td>\n",
              "      <td>342732</td>\n",
              "    </tr>\n",
              "    <tr>\n",
              "      <th>2</th>\n",
              "      <td>Eastern Mediterranean</td>\n",
              "      <td>251005</td>\n",
              "      <td>38339</td>\n",
              "    </tr>\n",
              "    <tr>\n",
              "      <th>3</th>\n",
              "      <td>Europe</td>\n",
              "      <td>1094656</td>\n",
              "      <td>211144</td>\n",
              "    </tr>\n",
              "    <tr>\n",
              "      <th>4</th>\n",
              "      <td>South-East Asia</td>\n",
              "      <td>637015</td>\n",
              "      <td>41349</td>\n",
              "    </tr>\n",
              "    <tr>\n",
              "      <th>5</th>\n",
              "      <td>Western Pacific</td>\n",
              "      <td>77409</td>\n",
              "      <td>8249</td>\n",
              "    </tr>\n",
              "  </tbody>\n",
              "</table>\n",
              "</div>"
            ],
            "text/plain": [
              "              WHO Region   Active  Deaths\n",
              "0                 Africa   270339   12223\n",
              "1               Americas  4027938  342732\n",
              "2  Eastern Mediterranean   251005   38339\n",
              "3                 Europe  1094656  211144\n",
              "4        South-East Asia   637015   41349\n",
              "5        Western Pacific    77409    8249"
            ]
          },
          "metadata": {},
          "execution_count": 154
        }
      ]
    },
    {
      "cell_type": "code",
      "metadata": {
        "colab": {
          "base_uri": "https://localhost:8080/",
          "height": 233
        },
        "id": "UFhw19Ey8Hm7",
        "outputId": "e1b0de35-560f-451f-dae2-9c018e47649e"
      },
      "source": [
        "covid_by_regions[['WHO Region','Active']].sort_values(by='Active')\n"
      ],
      "execution_count": null,
      "outputs": [
        {
          "output_type": "execute_result",
          "data": {
            "text/html": [
              "<div>\n",
              "<style scoped>\n",
              "    .dataframe tbody tr th:only-of-type {\n",
              "        vertical-align: middle;\n",
              "    }\n",
              "\n",
              "    .dataframe tbody tr th {\n",
              "        vertical-align: top;\n",
              "    }\n",
              "\n",
              "    .dataframe thead th {\n",
              "        text-align: right;\n",
              "    }\n",
              "</style>\n",
              "<table border=\"1\" class=\"dataframe\">\n",
              "  <thead>\n",
              "    <tr style=\"text-align: right;\">\n",
              "      <th></th>\n",
              "      <th>WHO Region</th>\n",
              "      <th>Active</th>\n",
              "    </tr>\n",
              "  </thead>\n",
              "  <tbody>\n",
              "    <tr>\n",
              "      <th>5</th>\n",
              "      <td>Western Pacific</td>\n",
              "      <td>77409</td>\n",
              "    </tr>\n",
              "    <tr>\n",
              "      <th>2</th>\n",
              "      <td>Eastern Mediterranean</td>\n",
              "      <td>251005</td>\n",
              "    </tr>\n",
              "    <tr>\n",
              "      <th>0</th>\n",
              "      <td>Africa</td>\n",
              "      <td>270339</td>\n",
              "    </tr>\n",
              "    <tr>\n",
              "      <th>4</th>\n",
              "      <td>South-East Asia</td>\n",
              "      <td>637015</td>\n",
              "    </tr>\n",
              "    <tr>\n",
              "      <th>3</th>\n",
              "      <td>Europe</td>\n",
              "      <td>1094656</td>\n",
              "    </tr>\n",
              "    <tr>\n",
              "      <th>1</th>\n",
              "      <td>Americas</td>\n",
              "      <td>4027938</td>\n",
              "    </tr>\n",
              "  </tbody>\n",
              "</table>\n",
              "</div>"
            ],
            "text/plain": [
              "              WHO Region   Active\n",
              "5        Western Pacific    77409\n",
              "2  Eastern Mediterranean   251005\n",
              "0                 Africa   270339\n",
              "4        South-East Asia   637015\n",
              "3                 Europe  1094656\n",
              "1               Americas  4027938"
            ]
          },
          "metadata": {},
          "execution_count": 74
        }
      ]
    },
    {
      "cell_type": "code",
      "metadata": {
        "colab": {
          "base_uri": "https://localhost:8080/",
          "height": 233
        },
        "id": "T86yETwD8lDq",
        "outputId": "788826cb-ecef-4d2a-872f-b2cf0aa0b175"
      },
      "source": [
        "covid_by_regions[['WHO Region','Deaths']].sort_values(by='Deaths')"
      ],
      "execution_count": null,
      "outputs": [
        {
          "output_type": "execute_result",
          "data": {
            "text/html": [
              "<div>\n",
              "<style scoped>\n",
              "    .dataframe tbody tr th:only-of-type {\n",
              "        vertical-align: middle;\n",
              "    }\n",
              "\n",
              "    .dataframe tbody tr th {\n",
              "        vertical-align: top;\n",
              "    }\n",
              "\n",
              "    .dataframe thead th {\n",
              "        text-align: right;\n",
              "    }\n",
              "</style>\n",
              "<table border=\"1\" class=\"dataframe\">\n",
              "  <thead>\n",
              "    <tr style=\"text-align: right;\">\n",
              "      <th></th>\n",
              "      <th>WHO Region</th>\n",
              "      <th>Deaths</th>\n",
              "    </tr>\n",
              "  </thead>\n",
              "  <tbody>\n",
              "    <tr>\n",
              "      <th>5</th>\n",
              "      <td>Western Pacific</td>\n",
              "      <td>8249</td>\n",
              "    </tr>\n",
              "    <tr>\n",
              "      <th>0</th>\n",
              "      <td>Africa</td>\n",
              "      <td>12223</td>\n",
              "    </tr>\n",
              "    <tr>\n",
              "      <th>2</th>\n",
              "      <td>Eastern Mediterranean</td>\n",
              "      <td>38339</td>\n",
              "    </tr>\n",
              "    <tr>\n",
              "      <th>4</th>\n",
              "      <td>South-East Asia</td>\n",
              "      <td>41349</td>\n",
              "    </tr>\n",
              "    <tr>\n",
              "      <th>3</th>\n",
              "      <td>Europe</td>\n",
              "      <td>211144</td>\n",
              "    </tr>\n",
              "    <tr>\n",
              "      <th>1</th>\n",
              "      <td>Americas</td>\n",
              "      <td>342732</td>\n",
              "    </tr>\n",
              "  </tbody>\n",
              "</table>\n",
              "</div>"
            ],
            "text/plain": [
              "              WHO Region  Deaths\n",
              "5        Western Pacific    8249\n",
              "0                 Africa   12223\n",
              "2  Eastern Mediterranean   38339\n",
              "4        South-East Asia   41349\n",
              "3                 Europe  211144\n",
              "1               Americas  342732"
            ]
          },
          "metadata": {},
          "execution_count": 75
        }
      ]
    },
    {
      "cell_type": "code",
      "metadata": {
        "colab": {
          "base_uri": "https://localhost:8080/",
          "height": 233
        },
        "id": "DsAu7EjF-8h_",
        "outputId": "880cd4b6-f832-4157-8007-fe510fbfe809"
      },
      "source": [
        "covid_by_regions[['WHO Region','1 week % increase']].sort_values(by='1 week % increase')"
      ],
      "execution_count": null,
      "outputs": [
        {
          "output_type": "execute_result",
          "data": {
            "text/html": [
              "<div>\n",
              "<style scoped>\n",
              "    .dataframe tbody tr th:only-of-type {\n",
              "        vertical-align: middle;\n",
              "    }\n",
              "\n",
              "    .dataframe tbody tr th {\n",
              "        vertical-align: top;\n",
              "    }\n",
              "\n",
              "    .dataframe thead th {\n",
              "        text-align: right;\n",
              "    }\n",
              "</style>\n",
              "<table border=\"1\" class=\"dataframe\">\n",
              "  <thead>\n",
              "    <tr style=\"text-align: right;\">\n",
              "      <th></th>\n",
              "      <th>WHO Region</th>\n",
              "      <th>1 week % increase</th>\n",
              "    </tr>\n",
              "  </thead>\n",
              "  <tbody>\n",
              "    <tr>\n",
              "      <th>4</th>\n",
              "      <td>South-East Asia</td>\n",
              "      <td>85.13</td>\n",
              "    </tr>\n",
              "    <tr>\n",
              "      <th>2</th>\n",
              "      <td>Eastern Mediterranean</td>\n",
              "      <td>230.61</td>\n",
              "    </tr>\n",
              "    <tr>\n",
              "      <th>5</th>\n",
              "      <td>Western Pacific</td>\n",
              "      <td>353.78</td>\n",
              "    </tr>\n",
              "    <tr>\n",
              "      <th>3</th>\n",
              "      <td>Europe</td>\n",
              "      <td>435.10</td>\n",
              "    </tr>\n",
              "    <tr>\n",
              "      <th>1</th>\n",
              "      <td>Americas</td>\n",
              "      <td>571.59</td>\n",
              "    </tr>\n",
              "    <tr>\n",
              "      <th>0</th>\n",
              "      <td>Africa</td>\n",
              "      <td>868.15</td>\n",
              "    </tr>\n",
              "  </tbody>\n",
              "</table>\n",
              "</div>"
            ],
            "text/plain": [
              "              WHO Region  1 week % increase\n",
              "4        South-East Asia              85.13\n",
              "2  Eastern Mediterranean             230.61\n",
              "5        Western Pacific             353.78\n",
              "3                 Europe             435.10\n",
              "1               Americas             571.59\n",
              "0                 Africa             868.15"
            ]
          },
          "metadata": {},
          "execution_count": 76
        }
      ]
    },
    {
      "cell_type": "code",
      "metadata": {
        "colab": {
          "base_uri": "https://localhost:8080/",
          "height": 202
        },
        "id": "V4KISVWj_ONy",
        "outputId": "e853e178-6152-4bd5-b210-82d9d4154c28"
      },
      "source": [
        "data[['Country/Region','1 week % increase']].sort_values(by='1 week % increase').head()"
      ],
      "execution_count": null,
      "outputs": [
        {
          "output_type": "execute_result",
          "data": {
            "text/html": [
              "<div>\n",
              "<style scoped>\n",
              "    .dataframe tbody tr th:only-of-type {\n",
              "        vertical-align: middle;\n",
              "    }\n",
              "\n",
              "    .dataframe tbody tr th {\n",
              "        vertical-align: top;\n",
              "    }\n",
              "\n",
              "    .dataframe thead th {\n",
              "        text-align: right;\n",
              "    }\n",
              "</style>\n",
              "<table border=\"1\" class=\"dataframe\">\n",
              "  <thead>\n",
              "    <tr style=\"text-align: right;\">\n",
              "      <th></th>\n",
              "      <th>Country/Region</th>\n",
              "      <th>1 week % increase</th>\n",
              "    </tr>\n",
              "  </thead>\n",
              "  <tbody>\n",
              "    <tr>\n",
              "      <th>88</th>\n",
              "      <td>Jordan</td>\n",
              "      <td>-3.84</td>\n",
              "    </tr>\n",
              "    <tr>\n",
              "      <th>168</th>\n",
              "      <td>Timor-Leste</td>\n",
              "      <td>0.00</td>\n",
              "    </tr>\n",
              "    <tr>\n",
              "      <th>24</th>\n",
              "      <td>Brunei</td>\n",
              "      <td>0.00</td>\n",
              "    </tr>\n",
              "    <tr>\n",
              "      <th>143</th>\n",
              "      <td>San Marino</td>\n",
              "      <td>0.00</td>\n",
              "    </tr>\n",
              "    <tr>\n",
              "      <th>140</th>\n",
              "      <td>Saint Kitts and Nevis</td>\n",
              "      <td>0.00</td>\n",
              "    </tr>\n",
              "  </tbody>\n",
              "</table>\n",
              "</div>"
            ],
            "text/plain": [
              "            Country/Region  1 week % increase\n",
              "88                  Jordan              -3.84\n",
              "168            Timor-Leste               0.00\n",
              "24                  Brunei               0.00\n",
              "143             San Marino               0.00\n",
              "140  Saint Kitts and Nevis               0.00"
            ]
          },
          "metadata": {},
          "execution_count": 78
        }
      ]
    },
    {
      "cell_type": "code",
      "metadata": {
        "colab": {
          "base_uri": "https://localhost:8080/",
          "height": 202
        },
        "id": "QfgZLgqh_xOs",
        "outputId": "83df5fed-a6ad-488a-8303-4075994d64de"
      },
      "source": [
        "data[['Country/Region','1 week % increase']].sort_values(by='1 week % increase').tail()"
      ],
      "execution_count": null,
      "outputs": [
        {
          "output_type": "execute_result",
          "data": {
            "text/html": [
              "<div>\n",
              "<style scoped>\n",
              "    .dataframe tbody tr th:only-of-type {\n",
              "        vertical-align: middle;\n",
              "    }\n",
              "\n",
              "    .dataframe tbody tr th {\n",
              "        vertical-align: top;\n",
              "    }\n",
              "\n",
              "    .dataframe thead th {\n",
              "        text-align: right;\n",
              "    }\n",
              "</style>\n",
              "<table border=\"1\" class=\"dataframe\">\n",
              "  <thead>\n",
              "    <tr style=\"text-align: right;\">\n",
              "      <th></th>\n",
              "      <th>Country/Region</th>\n",
              "      <th>1 week % increase</th>\n",
              "    </tr>\n",
              "  </thead>\n",
              "  <tbody>\n",
              "    <tr>\n",
              "      <th>99</th>\n",
              "      <td>Libya</td>\n",
              "      <td>42.78</td>\n",
              "    </tr>\n",
              "    <tr>\n",
              "      <th>186</th>\n",
              "      <td>Zimbabwe</td>\n",
              "      <td>57.85</td>\n",
              "    </tr>\n",
              "    <tr>\n",
              "      <th>11</th>\n",
              "      <td>Bahamas</td>\n",
              "      <td>119.54</td>\n",
              "    </tr>\n",
              "    <tr>\n",
              "      <th>63</th>\n",
              "      <td>Gambia</td>\n",
              "      <td>191.07</td>\n",
              "    </tr>\n",
              "    <tr>\n",
              "      <th>130</th>\n",
              "      <td>Papua New Guinea</td>\n",
              "      <td>226.32</td>\n",
              "    </tr>\n",
              "  </tbody>\n",
              "</table>\n",
              "</div>"
            ],
            "text/plain": [
              "       Country/Region  1 week % increase\n",
              "99              Libya              42.78\n",
              "186          Zimbabwe              57.85\n",
              "11            Bahamas             119.54\n",
              "63             Gambia             191.07\n",
              "130  Papua New Guinea             226.32"
            ]
          },
          "metadata": {},
          "execution_count": 79
        }
      ]
    },
    {
      "cell_type": "code",
      "metadata": {
        "colab": {
          "base_uri": "https://localhost:8080/",
          "height": 481
        },
        "id": "xGrL3AGqR84N",
        "outputId": "8e17aea6-da79-4009-a0c9-ea699b93be92"
      },
      "source": [
        "sns.kdeplot(covid_by_regions[\"Deaths\"], shade = True)"
      ],
      "execution_count": null,
      "outputs": [
        {
          "output_type": "execute_result",
          "data": {
            "text/plain": [
              "<matplotlib.axes._subplots.AxesSubplot at 0x7f90a2e528d0>"
            ]
          },
          "metadata": {},
          "execution_count": 132
        },
        {
          "output_type": "display_data",
          "data": {
            "image/png": "[encoded data removed]",
            "text/plain": [
              "<Figure size 1008x504 with 1 Axes>"
            ]
          },
          "metadata": {}
        }
      ]
    },
    {
      "cell_type": "code",
      "metadata": {
        "colab": {
          "base_uri": "https://localhost:8080/",
          "height": 481
        },
        "id": "7oZqMZ7i_3iA",
        "outputId": "f2fdd40a-0368-43c5-a046-f1506693e4a1"
      },
      "source": [
        "sns.kdeplot(covid_by_regions[\"Recovered\"], shade = True)"
      ],
      "execution_count": null,
      "outputs": [
        {
          "output_type": "execute_result",
          "data": {
            "text/plain": [
              "<matplotlib.axes._subplots.AxesSubplot at 0x7f90a2eb80d0>"
            ]
          },
          "metadata": {},
          "execution_count": 130
        },
        {
          "output_type": "display_data",
          "data": {
            "image/png": "[encoded data removed]",
            "text/plain": [
              "<Figure size 1008x504 with 1 Axes>"
            ]
          },
          "metadata": {}
        }
      ]
    },
    {
      "cell_type": "code",
      "metadata": {
        "id": "sgWHq5ThBRZk"
      },
      "source": [
        "sns.boxplot(x=\"WHO Region\" , y=\"1 week % increase\", data=data)"
      ],
      "execution_count": null,
      "outputs": []
    },
    {
      "cell_type": "code",
      "metadata": {
        "colab": {
          "base_uri": "https://localhost:8080/",
          "height": 469
        },
        "id": "9nA8af9SEJYq",
        "outputId": "ba974ad7-2768-446f-cf07-43d314873b61"
      },
      "source": [
        "sns.barplot(x=\"WHO Region\" , y=\"New cases\", data=data)"
      ],
      "execution_count": null,
      "outputs": [
        {
          "output_type": "execute_result",
          "data": {
            "text/plain": [
              "<matplotlib.axes._subplots.AxesSubplot at 0x7f90a09a2610>"
            ]
          },
          "metadata": {},
          "execution_count": 156
        },
        {
          "output_type": "display_data",
          "data": {
            "image/png": "[encoded data removed]",
            "text/plain": [
              "<Figure size 1008x504 with 1 Axes>"
            ]
          },
          "metadata": {}
        }
      ]
    },
    {
      "cell_type": "code",
      "metadata": {
        "id": "n3DKFScXU3vx"
      },
      "source": [
        ""
      ],
      "execution_count": null,
      "outputs": []
    },
    {
      "cell_type": "code",
      "metadata": {
        "id": "OLApmvq_VTQd"
      },
      "source": [
        ""
      ],
      "execution_count": null,
      "outputs": []
    }
  ]
}